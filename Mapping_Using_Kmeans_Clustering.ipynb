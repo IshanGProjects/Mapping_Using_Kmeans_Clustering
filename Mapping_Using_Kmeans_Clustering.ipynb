{
 "cells": [
  {
   "cell_type": "markdown",
   "id": "be193dbc",
   "metadata": {},
   "source": [
    "# County Region Mapping Calculations"
   ]
  },
  {
   "cell_type": "markdown",
   "id": "22ba1611",
   "metadata": {},
   "source": [
    "## Assigning Colorado Counties to Regions Using KMeans Clustering\n",
    "\n",
    "### Introduction\n",
    "\n",
    "The purpose of this code is to group the counties of Colorado into 9 distinct regions. Given that Colorado has more than 9 counties, we need a strategy to group multiple counties into a single region. We use the KMeans clustering algorithm to achieve this. \n",
    "\n",
    "### How it Works\n",
    "\n",
    "1. **Data Retrieval**: \n",
    "    - We start by loading geographic data for all US counties from a given URL.\n",
    "    - From this dataset, we filter out only the counties of Colorado using the state code `08`.\n",
    "\n",
    "2. **Reprojection**:\n",
    "    - The geographic data is originally in a latitude-longitude format, which isn't ideal for spatial distance calculations. Hence, we reproject (convert) this data to UTM Zone 13N (`EPSG:26913`), which is more suitable for Colorado.\n",
    "    - This transformation ensures that the distance computations, which KMeans uses internally, are accurate.\n",
    "\n",
    "3. **Centroid Calculation**:\n",
    "    - For each county, we calculate the centroid, which is essentially the geographic center point of the county.\n",
    "    - The centroids provide a single point representation for each county, simplifying our clustering task.\n",
    "\n",
    "4. **KMeans Clustering**:\n",
    "    - We feed the centroid coordinates of each county to the KMeans algorithm. \n",
    "    - KMeans will try to group the counties into 9 clusters (regions) such that the sum of the squared distances between the counties' centroids and the center of their respective clusters is minimized.\n",
    "    - Each county is then assigned a `region_id` based on which of the 9 clusters it belongs to.\n",
    "    \n",
    "\n",
    "\n",
    "### Result\n",
    "\n",
    "At the end of this process, each county in Colorado is assigned to one of 9 regions. The result is a table of counties with their associated `region_id`, which represents the region they belong to.\n",
    "\n",
    "---\n",
    "\n",
    "You can use this markdown content to describe the process in any documentation or report you're preparing."
   ]
  },
  {
   "cell_type": "markdown",
   "id": "4014f518",
   "metadata": {},
   "source": [
    "# Algorithm Explained\n",
    "\n",
    "\n",
    "## 1. Initialization:\n",
    "Choose **k** initial cluster centers. There are various methods to initialize these centers, but a common method is the \"Forgy\" method where **k** observations are chosen randomly from the dataset to serve as the initial centers.\n",
    "\n",
    "$$ C^{(0)}_i \\quad \\text{for} \\quad i = 1, \\ldots, k $$\n",
    "\n",
    "where $ C^{(0)}_i $ is the $ i^{th} $ initial cluster center.\n",
    "\n",
    "## 2. Assignment:\n",
    "Assign each observation to the nearest cluster center. Let $ x_j $ be the $ j^{th} $ observation, then the cluster $ r_j $ to which $ x_j $ is assigned is given by:\n",
    "\n",
    "$$ r_j = \\underset{i}{\\text{argmin}} \\ \\| x_j - C^{(t)}_i \\|^2 $$\n",
    "\n",
    "where $ C^{(t)}_i $ is the $ i^{th} $ cluster center at iteration $ t $.\n",
    "\n",
    "## 3. Update:\n",
    "Recalculate cluster centers as the mean of all the observations assigned to each cluster.\n",
    "\n",
    "$$ C^{(t+1)}_i = \\frac{1}{|S_i|} \\sum_{x_j \\in S_i} x_j $$\n",
    "\n",
    "where $ S_i $ is the set of all observations assigned to the $ i^{th} $ cluster.\n",
    "\n",
    "## 4. Convergence:\n",
    "Repeat the Assignment and Update steps until the cluster centers no longer change (or change very little) between iterations.\n",
    "\n",
    "The primary objective of k-means clustering is to minimize the within-cluster sum of squares (WCSS):\n",
    "\n",
    "$$ WCSS = \\sum_{i=1}^{k} \\sum_{x_j \\in S_i} \\| x_j - C_i \\|^2 $$\n",
    "\n",
    "The algorithm aims to find cluster centers $ C_i $ that minimize the WCSS.\n"
   ]
  },
  {
   "cell_type": "markdown",
   "id": "638a9da7",
   "metadata": {},
   "source": [
    "### Install Dependencies"
   ]
  },
  {
   "cell_type": "code",
   "execution_count": 1,
   "id": "9c2845dd",
   "metadata": {
    "scrolled": false
   },
   "outputs": [
    {
     "name": "stdout",
     "output_type": "stream",
     "text": [
      "Requirement already satisfied: geopandas in /Users/ishangohil/opt/anaconda3/lib/python3.9/site-packages (0.13.2)\n",
      "Requirement already satisfied: matplotlib in /Users/ishangohil/opt/anaconda3/lib/python3.9/site-packages (3.5.2)\n",
      "Requirement already satisfied: packaging in /Users/ishangohil/opt/anaconda3/lib/python3.9/site-packages (from geopandas) (21.3)\n",
      "Requirement already satisfied: fiona>=1.8.19 in /Users/ishangohil/opt/anaconda3/lib/python3.9/site-packages (from geopandas) (1.9.4.post1)\n",
      "Requirement already satisfied: pandas>=1.1.0 in /Users/ishangohil/opt/anaconda3/lib/python3.9/site-packages (from geopandas) (1.4.4)\n",
      "Requirement already satisfied: pyproj>=3.0.1 in /Users/ishangohil/opt/anaconda3/lib/python3.9/site-packages (from geopandas) (3.6.0)\n",
      "Requirement already satisfied: shapely>=1.7.1 in /Users/ishangohil/opt/anaconda3/lib/python3.9/site-packages (from geopandas) (2.0.1)\n",
      "Requirement already satisfied: pyparsing>=2.2.1 in /Users/ishangohil/opt/anaconda3/lib/python3.9/site-packages (from matplotlib) (3.0.9)\n",
      "Requirement already satisfied: fonttools>=4.22.0 in /Users/ishangohil/opt/anaconda3/lib/python3.9/site-packages (from matplotlib) (4.25.0)\n",
      "Requirement already satisfied: cycler>=0.10 in /Users/ishangohil/opt/anaconda3/lib/python3.9/site-packages (from matplotlib) (0.11.0)\n",
      "Requirement already satisfied: python-dateutil>=2.7 in /Users/ishangohil/opt/anaconda3/lib/python3.9/site-packages (from matplotlib) (2.8.2)\n",
      "Requirement already satisfied: pillow>=6.2.0 in /Users/ishangohil/opt/anaconda3/lib/python3.9/site-packages (from matplotlib) (9.2.0)\n",
      "Requirement already satisfied: numpy>=1.17 in /Users/ishangohil/opt/anaconda3/lib/python3.9/site-packages (from matplotlib) (1.21.5)\n",
      "Requirement already satisfied: kiwisolver>=1.0.1 in /Users/ishangohil/opt/anaconda3/lib/python3.9/site-packages (from matplotlib) (1.4.2)\n",
      "Requirement already satisfied: cligj>=0.5 in /Users/ishangohil/opt/anaconda3/lib/python3.9/site-packages (from fiona>=1.8.19->geopandas) (0.7.2)\n",
      "Requirement already satisfied: certifi in /Users/ishangohil/opt/anaconda3/lib/python3.9/site-packages (from fiona>=1.8.19->geopandas) (2022.9.24)\n",
      "Requirement already satisfied: attrs>=19.2.0 in /Users/ishangohil/opt/anaconda3/lib/python3.9/site-packages (from fiona>=1.8.19->geopandas) (21.4.0)\n",
      "Requirement already satisfied: click-plugins>=1.0 in /Users/ishangohil/opt/anaconda3/lib/python3.9/site-packages (from fiona>=1.8.19->geopandas) (1.1.1)\n",
      "Requirement already satisfied: six in /Users/ishangohil/opt/anaconda3/lib/python3.9/site-packages (from fiona>=1.8.19->geopandas) (1.16.0)\n",
      "Requirement already satisfied: click~=8.0 in /Users/ishangohil/opt/anaconda3/lib/python3.9/site-packages (from fiona>=1.8.19->geopandas) (8.0.4)\n",
      "Requirement already satisfied: importlib-metadata in /Users/ishangohil/opt/anaconda3/lib/python3.9/site-packages (from fiona>=1.8.19->geopandas) (4.11.3)\n",
      "Requirement already satisfied: pytz>=2020.1 in /Users/ishangohil/opt/anaconda3/lib/python3.9/site-packages (from pandas>=1.1.0->geopandas) (2022.1)\n",
      "Requirement already satisfied: zipp>=0.5 in /Users/ishangohil/opt/anaconda3/lib/python3.9/site-packages (from importlib-metadata->fiona>=1.8.19->geopandas) (3.8.0)\n",
      "Note: you may need to restart the kernel to use updated packages.\n"
     ]
    }
   ],
   "source": [
    "pip install geopandas matplotlib\n"
   ]
  },
  {
   "cell_type": "markdown",
   "id": "98d5361e",
   "metadata": {},
   "source": [
    "Geographical Proximity: Use geospatial libraries like geopandas and shapely to group counties based on their proximity and boundaries."
   ]
  },
  {
   "cell_type": "code",
   "execution_count": 4,
   "id": "493a47e1",
   "metadata": {},
   "outputs": [
    {
     "name": "stdout",
     "output_type": "stream",
     "text": [
      "            NAME  region_id\n",
      "1           Yuma          3\n",
      "73      San Juan          0\n",
      "89          Baca          4\n",
      "125      Prowers          4\n",
      "134       Custer          5\n",
      "...          ...        ...\n",
      "2822    La Plata          0\n",
      "2895      Morgan          3\n",
      "2928       Routt          6\n",
      "3008    Costilla          5\n",
      "3096  Washington          3\n",
      "\n",
      "[64 rows x 2 columns]\n"
     ]
    }
   ],
   "source": [
    "import geopandas as gpd\n",
    "from sklearn.cluster import KMeans\n",
    "\n",
    "# Load Colorado counties\n",
    "colorado_counties = gpd.read_file(\"https://www2.census.gov/geo/tiger/GENZ2020/shp/cb_2020_us_county_20m.zip\")\n",
    "colorado_counties = colorado_counties[colorado_counties['STATEFP'] == '08']\n",
    "\n",
    "# Reproject to UTM Zone 13N\n",
    "colorado_counties = colorado_counties.to_crs(epsg=26913)\n",
    "\n",
    "# Get centroids of each county\n",
    "colorado_counties[\"centroid_lon\"] = colorado_counties.geometry.centroid.x\n",
    "colorado_counties[\"centroid_lat\"] = colorado_counties.geometry.centroid.y\n",
    "\n",
    "# Use K-means clustering to group the counties based on their centroids\n",
    "X = colorado_counties[[\"centroid_lon\", \"centroid_lat\"]].values\n",
    "kmeans = KMeans(n_clusters=9, random_state=0).fit(X)\n",
    "colorado_counties[\"region_id\"] = kmeans.labels_\n",
    "\n",
    "print(colorado_counties[[\"NAME\", \"region_id\"]])\n"
   ]
  },
  {
   "cell_type": "markdown",
   "id": "5021839b",
   "metadata": {},
   "source": [
    "## Visual Representation"
   ]
  },
  {
   "cell_type": "code",
   "execution_count": 5,
   "id": "4f899674",
   "metadata": {},
   "outputs": [
    {
     "name": "stdout",
     "output_type": "stream",
     "text": [
      "Index(['STATEFP', 'COUNTYFP', 'COUNTYNS', 'AFFGEOID', 'GEOID', 'NAME',\n",
      "       'NAMELSAD', 'STUSPS', 'STATE_NAME', 'LSAD', 'ALAND', 'AWATER',\n",
      "       'geometry', 'centroid_lon', 'centroid_lat', 'region_id'],\n",
      "      dtype='object')\n"
     ]
    },
    {
     "data": {
      "image/png": "[encoded data removed]",
      "text/plain": [
       "<Figure size 1000x1000 with 2 Axes>"
      ]
     },
     "metadata": {},
     "output_type": "display_data"
    }
   ],
   "source": [
    "import matplotlib.pyplot as plt\n",
    "\n",
    "# Assuming 'region_id' column in colorado_counties is the result of your KMeans clustering\n",
    "# Set up the plot\n",
    "fig, ax = plt.subplots(1, 1, figsize=(10, 10))\n",
    "ax.set_title(\"Colorado Counties Grouped by Region\")\n",
    "\n",
    "print(colorado_counties.columns)\n",
    "\n",
    "\n",
    "# Plot each region with a unique color\n",
    "colorado_counties.plot(column='region_id', ax=ax, legend=True, cmap='tab20b')\n",
    "\n",
    "# Annotate each county with its name\n",
    "for x, y, label in zip(colorado_counties[\"centroid_lon\"], colorado_counties[\"centroid_lat\"], colorado_counties[\"NAME\"]):\n",
    "    ax.text(x, y, label, fontsize=8, ha='center', va='center')\n",
    "\n",
    "\n",
    "# Removing x and y axis for better visualization\n",
    "ax.set_yticklabels([])\n",
    "ax.set_xticklabels([])\n",
    "ax.set_xticks([])\n",
    "ax.set_yticks([])\n",
    "ax.set_frame_on(False)\n",
    "\n",
    "# Show the plot\n",
    "plt.show()\n"
   ]
  },
  {
   "cell_type": "markdown",
   "id": "b8a5d433",
   "metadata": {},
   "source": [
    "## Export As CSV"
   ]
  },
  {
   "cell_type": "markdown",
   "id": "473f309c",
   "metadata": {},
   "source": [
    "This CSV must be formatted to the county reigon map:"
   ]
  },
  {
   "cell_type": "code",
   "execution_count": 8,
   "id": "703aafef",
   "metadata": {},
   "outputs": [
    {
     "name": "stdout",
     "output_type": "stream",
     "text": [
      "Data saved to county_region_map_calculated.csv\n"
     ]
    }
   ],
   "source": [
    "# Extract the county names and their corresponding region IDs directly\n",
    "data = [(row['NAME'], row['region_id'] + 1) for _, row in colorado_counties.iterrows()]\n",
    "\n",
    "# Export to CSV\n",
    "filename = 'county_region_map_calculated.csv'\n",
    "with open(filename, 'w') as csvfile:\n",
    "    # No header row needed based on your new format request\n",
    "    for county, region in data:\n",
    "        csvfile.write(f\"'{county}',{region}\\n\")\n",
    "\n",
    "print(f\"Data saved to {filename}\")\n"
   ]
  },
  {
   "cell_type": "markdown",
   "id": "3fa2da4b",
   "metadata": {},
   "source": [
    "# Data Migration Script"
   ]
  },
  {
   "cell_type": "markdown",
   "id": "465fc290",
   "metadata": {},
   "source": [
    "### Installing Dependencies"
   ]
  },
  {
   "cell_type": "code",
   "execution_count": 2,
   "id": "21356fda",
   "metadata": {},
   "outputs": [
    {
     "name": "stdout",
     "output_type": "stream",
     "text": [
      "Collecting pymysql\n",
      "  Downloading PyMySQL-1.1.0-py3-none-any.whl (44 kB)\n",
      "\u001b[2K     \u001b[90m━━━━━━━━━━━━━━━━━━━━━━━━━━━━━━━━━━━━━━━\u001b[0m \u001b[32m44.8/44.8 kB\u001b[0m \u001b[31m198.7 kB/s\u001b[0m eta \u001b[36m0:00:00\u001b[0ma \u001b[36m0:00:01\u001b[0m\n",
      "\u001b[?25hRequirement already satisfied: pandas in /Users/ishangohil/opt/anaconda3/lib/python3.9/site-packages (1.4.4)\n",
      "Requirement already satisfied: python-dateutil>=2.8.1 in /Users/ishangohil/opt/anaconda3/lib/python3.9/site-packages (from pandas) (2.8.2)\n",
      "Requirement already satisfied: pytz>=2020.1 in /Users/ishangohil/opt/anaconda3/lib/python3.9/site-packages (from pandas) (2022.1)\n",
      "Requirement already satisfied: numpy>=1.18.5 in /Users/ishangohil/opt/anaconda3/lib/python3.9/site-packages (from pandas) (1.21.5)\n",
      "Requirement already satisfied: six>=1.5 in /Users/ishangohil/opt/anaconda3/lib/python3.9/site-packages (from python-dateutil>=2.8.1->pandas) (1.16.0)\n",
      "Installing collected packages: pymysql\n",
      "Successfully installed pymysql-1.1.0\n",
      "\n",
      "\u001b[1m[\u001b[0m\u001b[34;49mnotice\u001b[0m\u001b[1;39;49m]\u001b[0m\u001b[39;49m A new release of pip is available: \u001b[0m\u001b[31;49m23.0\u001b[0m\u001b[39;49m -> \u001b[0m\u001b[32;49m23.2.1\u001b[0m\n",
      "\u001b[1m[\u001b[0m\u001b[34;49mnotice\u001b[0m\u001b[1;39;49m]\u001b[0m\u001b[39;49m To update, run: \u001b[0m\u001b[32;49m/Users/ishangohil/opt/anaconda3/bin/python -m pip install --upgrade pip\u001b[0m\n",
      "Note: you may need to restart the kernel to use updated packages.\n"
     ]
    }
   ],
   "source": [
    "pip install pymysql pandas"
   ]
  },
  {
   "cell_type": "markdown",
   "id": "00dc6b50",
   "metadata": {},
   "source": [
    "The cell below is a template for connecting it to actual db host."
   ]
  },
  {
   "cell_type": "code",
   "execution_count": 1,
   "id": "caf37871",
   "metadata": {},
   "outputs": [
    {
     "ename": "OperationalError",
     "evalue": "(2003, \"Can't connect to MySQL server on 'your_host' ([Errno 8] nodename nor servname provided, or not known)\")",
     "output_type": "error",
     "traceback": [
      "\u001b[0;31m---------------------------------------------------------------------------\u001b[0m",
      "\u001b[0;31mgaierror\u001b[0m                                  Traceback (most recent call last)",
      "\u001b[0;32m~/opt/anaconda3/lib/python3.9/site-packages/pymysql/connections.py\u001b[0m in \u001b[0;36mconnect\u001b[0;34m(self, sock)\u001b[0m\n\u001b[1;32m    643\u001b[0m                         \u001b[0;32mtry\u001b[0m\u001b[0;34m:\u001b[0m\u001b[0;34m\u001b[0m\u001b[0;34m\u001b[0m\u001b[0m\n\u001b[0;32m--> 644\u001b[0;31m                             sock = socket.create_connection(\n\u001b[0m\u001b[1;32m    645\u001b[0m                                 \u001b[0;34m(\u001b[0m\u001b[0mself\u001b[0m\u001b[0;34m.\u001b[0m\u001b[0mhost\u001b[0m\u001b[0;34m,\u001b[0m \u001b[0mself\u001b[0m\u001b[0;34m.\u001b[0m\u001b[0mport\u001b[0m\u001b[0;34m)\u001b[0m\u001b[0;34m,\u001b[0m \u001b[0mself\u001b[0m\u001b[0;34m.\u001b[0m\u001b[0mconnect_timeout\u001b[0m\u001b[0;34m,\u001b[0m \u001b[0;34m**\u001b[0m\u001b[0mkwargs\u001b[0m\u001b[0;34m\u001b[0m\u001b[0;34m\u001b[0m\u001b[0m\n",
      "\u001b[0;32m~/opt/anaconda3/lib/python3.9/socket.py\u001b[0m in \u001b[0;36mcreate_connection\u001b[0;34m(address, timeout, source_address)\u001b[0m\n\u001b[1;32m    822\u001b[0m     \u001b[0merr\u001b[0m \u001b[0;34m=\u001b[0m \u001b[0;32mNone\u001b[0m\u001b[0;34m\u001b[0m\u001b[0;34m\u001b[0m\u001b[0m\n\u001b[0;32m--> 823\u001b[0;31m     \u001b[0;32mfor\u001b[0m \u001b[0mres\u001b[0m \u001b[0;32min\u001b[0m \u001b[0mgetaddrinfo\u001b[0m\u001b[0;34m(\u001b[0m\u001b[0mhost\u001b[0m\u001b[0;34m,\u001b[0m \u001b[0mport\u001b[0m\u001b[0;34m,\u001b[0m \u001b[0;36m0\u001b[0m\u001b[0;34m,\u001b[0m \u001b[0mSOCK_STREAM\u001b[0m\u001b[0;34m)\u001b[0m\u001b[0;34m:\u001b[0m\u001b[0;34m\u001b[0m\u001b[0;34m\u001b[0m\u001b[0m\n\u001b[0m\u001b[1;32m    824\u001b[0m         \u001b[0maf\u001b[0m\u001b[0;34m,\u001b[0m \u001b[0msocktype\u001b[0m\u001b[0;34m,\u001b[0m \u001b[0mproto\u001b[0m\u001b[0;34m,\u001b[0m \u001b[0mcanonname\u001b[0m\u001b[0;34m,\u001b[0m \u001b[0msa\u001b[0m \u001b[0;34m=\u001b[0m \u001b[0mres\u001b[0m\u001b[0;34m\u001b[0m\u001b[0;34m\u001b[0m\u001b[0m\n",
      "\u001b[0;32m~/opt/anaconda3/lib/python3.9/socket.py\u001b[0m in \u001b[0;36mgetaddrinfo\u001b[0;34m(host, port, family, type, proto, flags)\u001b[0m\n\u001b[1;32m    953\u001b[0m     \u001b[0maddrlist\u001b[0m \u001b[0;34m=\u001b[0m \u001b[0;34m[\u001b[0m\u001b[0;34m]\u001b[0m\u001b[0;34m\u001b[0m\u001b[0;34m\u001b[0m\u001b[0m\n\u001b[0;32m--> 954\u001b[0;31m     \u001b[0;32mfor\u001b[0m \u001b[0mres\u001b[0m \u001b[0;32min\u001b[0m \u001b[0m_socket\u001b[0m\u001b[0;34m.\u001b[0m\u001b[0mgetaddrinfo\u001b[0m\u001b[0;34m(\u001b[0m\u001b[0mhost\u001b[0m\u001b[0;34m,\u001b[0m \u001b[0mport\u001b[0m\u001b[0;34m,\u001b[0m \u001b[0mfamily\u001b[0m\u001b[0;34m,\u001b[0m \u001b[0mtype\u001b[0m\u001b[0;34m,\u001b[0m \u001b[0mproto\u001b[0m\u001b[0;34m,\u001b[0m \u001b[0mflags\u001b[0m\u001b[0;34m)\u001b[0m\u001b[0;34m:\u001b[0m\u001b[0;34m\u001b[0m\u001b[0;34m\u001b[0m\u001b[0m\n\u001b[0m\u001b[1;32m    955\u001b[0m         \u001b[0maf\u001b[0m\u001b[0;34m,\u001b[0m \u001b[0msocktype\u001b[0m\u001b[0;34m,\u001b[0m \u001b[0mproto\u001b[0m\u001b[0;34m,\u001b[0m \u001b[0mcanonname\u001b[0m\u001b[0;34m,\u001b[0m \u001b[0msa\u001b[0m \u001b[0;34m=\u001b[0m \u001b[0mres\u001b[0m\u001b[0;34m\u001b[0m\u001b[0;34m\u001b[0m\u001b[0m\n",
      "\u001b[0;31mgaierror\u001b[0m: [Errno 8] nodename nor servname provided, or not known",
      "\nDuring handling of the above exception, another exception occurred:\n",
      "\u001b[0;31mOperationalError\u001b[0m                          Traceback (most recent call last)",
      "\u001b[0;32m/var/folders/py/tzw_dvv14054719nj_b48jz80000gn/T/ipykernel_51417/3185213915.py\u001b[0m in \u001b[0;36m<module>\u001b[0;34m\u001b[0m\n\u001b[1;32m      3\u001b[0m \u001b[0;34m\u001b[0m\u001b[0m\n\u001b[1;32m      4\u001b[0m \u001b[0;31m# Connect to the database\u001b[0m\u001b[0;34m\u001b[0m\u001b[0;34m\u001b[0m\u001b[0m\n\u001b[0;32m----> 5\u001b[0;31m connection = pymysql.connect(host='your_host',\n\u001b[0m\u001b[1;32m      6\u001b[0m                              \u001b[0muser\u001b[0m\u001b[0;34m=\u001b[0m\u001b[0;34m'your_user'\u001b[0m\u001b[0;34m,\u001b[0m\u001b[0;34m\u001b[0m\u001b[0;34m\u001b[0m\u001b[0m\n\u001b[1;32m      7\u001b[0m                              \u001b[0mpassword\u001b[0m\u001b[0;34m=\u001b[0m\u001b[0;34m'your_password'\u001b[0m\u001b[0;34m,\u001b[0m\u001b[0;34m\u001b[0m\u001b[0;34m\u001b[0m\u001b[0m\n",
      "\u001b[0;32m~/opt/anaconda3/lib/python3.9/site-packages/pymysql/connections.py\u001b[0m in \u001b[0;36m__init__\u001b[0;34m(self, user, password, host, database, unix_socket, port, charset, collation, sql_mode, read_default_file, conv, use_unicode, client_flag, cursorclass, init_command, connect_timeout, read_default_group, autocommit, local_infile, max_allowed_packet, defer_connect, auth_plugin_map, read_timeout, write_timeout, bind_address, binary_prefix, program_name, server_public_key, ssl, ssl_ca, ssl_cert, ssl_disabled, ssl_key, ssl_verify_cert, ssl_verify_identity, compress, named_pipe, passwd, db)\u001b[0m\n\u001b[1;32m    356\u001b[0m             \u001b[0mself\u001b[0m\u001b[0;34m.\u001b[0m\u001b[0m_sock\u001b[0m \u001b[0;34m=\u001b[0m \u001b[0;32mNone\u001b[0m\u001b[0;34m\u001b[0m\u001b[0;34m\u001b[0m\u001b[0m\n\u001b[1;32m    357\u001b[0m         \u001b[0;32melse\u001b[0m\u001b[0;34m:\u001b[0m\u001b[0;34m\u001b[0m\u001b[0;34m\u001b[0m\u001b[0m\n\u001b[0;32m--> 358\u001b[0;31m             \u001b[0mself\u001b[0m\u001b[0;34m.\u001b[0m\u001b[0mconnect\u001b[0m\u001b[0;34m(\u001b[0m\u001b[0;34m)\u001b[0m\u001b[0;34m\u001b[0m\u001b[0;34m\u001b[0m\u001b[0m\n\u001b[0m\u001b[1;32m    359\u001b[0m \u001b[0;34m\u001b[0m\u001b[0m\n\u001b[1;32m    360\u001b[0m     \u001b[0;32mdef\u001b[0m \u001b[0m__enter__\u001b[0m\u001b[0;34m(\u001b[0m\u001b[0mself\u001b[0m\u001b[0;34m)\u001b[0m\u001b[0;34m:\u001b[0m\u001b[0;34m\u001b[0m\u001b[0;34m\u001b[0m\u001b[0m\n",
      "\u001b[0;32m~/opt/anaconda3/lib/python3.9/site-packages/pymysql/connections.py\u001b[0m in \u001b[0;36mconnect\u001b[0;34m(self, sock)\u001b[0m\n\u001b[1;32m    709\u001b[0m                 \u001b[0;32mif\u001b[0m \u001b[0mDEBUG\u001b[0m\u001b[0;34m:\u001b[0m\u001b[0;34m\u001b[0m\u001b[0;34m\u001b[0m\u001b[0m\n\u001b[1;32m    710\u001b[0m                     \u001b[0mprint\u001b[0m\u001b[0;34m(\u001b[0m\u001b[0mexc\u001b[0m\u001b[0;34m.\u001b[0m\u001b[0mtraceback\u001b[0m\u001b[0;34m)\u001b[0m\u001b[0;34m\u001b[0m\u001b[0;34m\u001b[0m\u001b[0m\n\u001b[0;32m--> 711\u001b[0;31m                 \u001b[0;32mraise\u001b[0m \u001b[0mexc\u001b[0m\u001b[0;34m\u001b[0m\u001b[0;34m\u001b[0m\u001b[0m\n\u001b[0m\u001b[1;32m    712\u001b[0m \u001b[0;34m\u001b[0m\u001b[0m\n\u001b[1;32m    713\u001b[0m             \u001b[0;31m# If e is neither DatabaseError or IOError, It's a bug.\u001b[0m\u001b[0;34m\u001b[0m\u001b[0;34m\u001b[0m\u001b[0m\n",
      "\u001b[0;31mOperationalError\u001b[0m: (2003, \"Can't connect to MySQL server on 'your_host' ([Errno 8] nodename nor servname provided, or not known)\")"
     ]
    }
   ],
   "source": [
    "import pymysql\n",
    "import pandas as pd\n",
    "\n",
    "# Connect to the database\n",
    "connection = pymysql.connect(host='your_host',\n",
    "                             user='your_user',\n",
    "                             password='your_password',\n",
    "                             db='your_db')\n",
    "\n",
    "# Extract data into pandas DataFrames\n",
    "query_member = \"SELECT * FROM member;\"\n",
    "query_region = \"SELECT * FROM region;\"\n",
    "query_county_region_map = \"SELECT * FROM county_region_map;\"\n",
    "\n",
    "df_member = pd.read_sql(query_member, connection)\n",
    "df_region = pd.read_sql(query_region, connection)\n",
    "df_county_region_map = pd.read_sql(query_county_region_map, connection)\n",
    "\n",
    "# Transform data\n",
    "# Here you would manipulate the data in df_member and other dataframes \n",
    "# based on your requirements. pandas provides functions like 'apply', \n",
    "# 'merge', and others to help in the transformation.\n",
    "\n",
    "# Example transformation:\n",
    "# Extract county from 'locations' column and merge it with df_county_region_map\n",
    "df_member['county'] = df_member['locations'].apply(lambda x: x.get('county'))\n",
    "df_transformed = pd.merge(df_member, df_county_region_map, on='county', how='left')\n",
    "\n",
    "# Load back into MySQL\n",
    "cursor = connection.cursor()\n",
    "\n",
    "# Loop through the DataFrame rows and insert into the member_region table\n",
    "for index, row in df_transformed.iterrows():\n",
    "    cursor.execute(\"INSERT INTO member_region (member_id, region_id) VALUES (%s, %s)\", (row['id'], row['regionId']))\n",
    "\n",
    "connection.commit()\n",
    "cursor.close()\n",
    "connection.close()\n"
   ]
  },
  {
   "cell_type": "markdown",
   "id": "88b331fa",
   "metadata": {},
   "source": [
    "# Personal Test"
   ]
  },
  {
   "cell_type": "code",
   "execution_count": 1,
   "id": "a39bfa73",
   "metadata": {},
   "outputs": [],
   "source": [
    "import pandas as pd\n",
    "import pymysql\n",
    "import json\n",
    "import csv\n",
    "import logging\n",
    "\n",
    "# Setting up logging\n",
    "logging.basicConfig(filename=\"migration_log.log\", level=logging.INFO, format='%(asctime)s - %(levelname)s - %(message)s')\n",
    "\n",
    "# Connect to the database\n",
    "try:\n",
    "    connection = pymysql.connect(host='',\n",
    "                                 user='',\n",
    "                                 password='',\n",
    "                                 db='',\n",
    "                                 charset='utf8mb4',\n",
    "                                 cursorclass=pymysql.cursors.DictCursor)\n",
    "    logging.info(\"Successfully connected to the database.\")\n",
    "except Exception as e:\n",
    "    logging.error(f\"Failed to connect to the database. Error: {str(e)}\")\n",
    "    exit()\n",
    "\n",
    "# Load the CSV into DataFrame\n",
    "mapping = []\n",
    "try:\n",
    "    with open('county_region_map_calculated.csv', 'r') as f:\n",
    "        reader = csv.reader(f)\n",
    "        for row in reader:\n",
    "            mapping.append((row[0].strip(\"' \"), int(row[1].strip())))\n",
    "    \n",
    "    county_region_df = pd.DataFrame(mapping, columns=['county', 'region_id'])\n",
    "    logging.info(\"Successfully loaded CSV into DataFrame.\")\n",
    "except Exception as e:\n",
    "    logging.error(f\"Failed to load CSV. Error: {str(e)}\")\n",
    "    exit()\n",
    "\n",
    "def get_region_ids_from_locations(locations_json):\n",
    "    if locations_json.get(\"SA Locations\"):\n",
    "        return list(county_region_df['region_id'])\n",
    "\n",
    "    region_ids = []\n",
    "    for county in county_region_df['county']:\n",
    "        if county in locations_json:\n",
    "            region_id = county_region_df[county_region_df['county'] == county]['region_id'].values[0]\n",
    "            region_ids.append(region_id)\n",
    "\n",
    "    return region_ids\n",
    "\n",
    "# Fetch member locations and update member_region table\n",
    "with connection.cursor() as cursor:\n",
    "    try:\n",
    "        cursor.execute(\"SELECT id, locations FROM member\")\n",
    "        for row in cursor.fetchall():\n",
    "            member_id = row['id']\n",
    "            locations = json.loads(row['locations'])\n",
    "            region_ids = get_region_ids_from_locations(locations)\n",
    "            \n",
    "            for region_id in region_ids:\n",
    "                cursor.execute(\"INSERT INTO member_region (member_id, region_id) VALUES (%s, %s)\", (member_id, region_id))\n",
    "        logging.info(\"Successfully updated member_region table.\")\n",
    "    except Exception as e:\n",
    "        logging.error(f\"Error while updating member_region table. Error: {str(e)}\")\n",
    "\n",
    "# Do the same for organizations (assuming their locations column is named 'service_locations')\n",
    "with connection.cursor() as cursor:\n",
    "    try:\n",
    "        cursor.execute(\"SELECT id, service_locations FROM organization\")\n",
    "        for row in cursor.fetchall():\n",
    "            org_id = row['id']\n",
    "            locations = json.loads(row['service_locations'])\n",
    "            region_ids = get_region_ids_from_locations(locations)\n",
    "            \n",
    "            for region_id in region_ids:\n",
    "                cursor.execute(\"INSERT INTO organization_region (organization_id, region_id) VALUES (%s, %s)\", (org_id, region_id))\n",
    "        logging.info(\"Successfully updated organization_region table.\")\n",
    "    except Exception as e:\n",
    "        logging.error(f\"Error while updating organization_region table. Error: {str(e)}\")\n",
    "\n",
    "# Commit changes and close the connection\n",
    "try:\n",
    "    connection.commit()\n",
    "    connection.close()\n",
    "    logging.info(\"Successfully committed changes and closed the connection.\")\n",
    "except Exception as e:\n",
    "    logging.error(f\"Failed to commit changes or close the connection. Error: {str(e)}\")\n"
   ]
  },
  {
   "cell_type": "markdown",
   "id": "bedb737a",
   "metadata": {},
   "source": [
    "# Data Diagnostics"
   ]
  },
  {
   "cell_type": "code",
   "execution_count": 7,
   "id": "11a87502",
   "metadata": {},
   "outputs": [
    {
     "name": "stdout",
     "output_type": "stream",
     "text": [
      "   id_x first_name last_name                         email  \\\n",
      "0     1    Spencer    Wegner             spencer@bevara.co   \n",
      "1     5      Jacob   Brondum  jacobthomasbrondum@gmail.com   \n",
      "2     6     Talley      Cain             tcain37@gmail.com   \n",
      "3     7      Sarah   Brondum             sarah+2@bevara.co   \n",
      "4     8    Bridger   Kroenke             bkroenke@mric.net   \n",
      "\n",
      "                                            password  \\\n",
      "0  119ee1b4218322bb0bc4d22621561e6aca35a7b116a4c6...   \n",
      "1  9faafdc21afd79990173a8ed39242e9410600751aef171...   \n",
      "2  94e09a6742d3068de1a2aed8f6eb6f28af7cc9d5761347...   \n",
      "3  aa83c29832c117321c917480e936fc613acf908fc6827d...   \n",
      "4  0dd90d09d0d5c8430130dd9df52c99d68305b5f7e23dd2...   \n",
      "\n",
      "                                                salt    age date_of_birth  \\\n",
      "0  102aaddf4c561ac4494de1b389a30c5840ba66513295ff...  25-34          None   \n",
      "1  5481ab2de72227d9f0a673791bfd7d81fc6d309315e636...  18-24          None   \n",
      "2  b553657e8c4baf4a13b083ef362079c294cd90ed9336a3...  18-24          None   \n",
      "3  8f42d9ca4443d2006f801fab90f0ca264d9b50a0e7d15b...  25-34          None   \n",
      "4  584e808434bd883185e32e193c7d4f42a4871467602310...  18-24          None   \n",
      "\n",
      "   gender                                         activities  ...  \\\n",
      "0    Male  Hiking, Running, Trail Running, Camping, Climb...  ...   \n",
      "1    Male                                             Hiking  ...   \n",
      "2  Female  Hiking, Camping, Climbing, Skiing, Backpacking...  ...   \n",
      "3  Female  Hiking, Running, Trail Running, Camping, Climb...  ...   \n",
      "4    Male  Hiking, Camping, Climbing 14ers, Climbing, Skiing  ...   \n",
      "\n",
      "    accepted_terms_at email_valid validation_code          created_at  \\\n",
      "0 2021-03-20 22:59:44           1             NaN 2021-03-20 22:59:45   \n",
      "1 2021-04-01 17:12:19           1             NaN 2021-04-01 17:12:20   \n",
      "2 2021-04-01 17:15:21           1             NaN 2021-04-01 17:15:21   \n",
      "3 2021-04-01 17:23:16           1             NaN 2021-04-01 17:23:17   \n",
      "4 2021-04-01 17:28:53           1             NaN 2021-04-01 17:28:53   \n",
      "\n",
      "           updated_at is_SA_locations tmp_county  county id_y regionId  \n",
      "0 2022-09-09 21:54:38             0.0       None    None  NaN      NaN  \n",
      "1 2021-04-01 17:16:34             0.0       None    None  NaN      NaN  \n",
      "2 2021-04-01 17:21:04             1.0       None    None  NaN      NaN  \n",
      "3 2023-01-16 23:48:17             0.0       None    None  NaN      NaN  \n",
      "4 2021-04-01 17:29:12             1.0       None    None  NaN      NaN  \n",
      "\n",
      "[5 rows x 22 columns]\n",
      "0\n",
      "<class 'dict'>    75\n",
      "Name: locations, dtype: int64\n",
      "[None]\n",
      "Original member dataframe shape: (75, 20)\n",
      "Transformed dataframe shape: (75, 22)\n"
     ]
    }
   ],
   "source": [
    "print(df_transformed.head())\n",
    "print(df_transformed['locations'].isnull().sum())\n",
    "print(df_transformed['locations'].apply(type).value_counts())\n",
    "print(df_transformed['county'].unique())\n",
    "print(f\"Original member dataframe shape: {df_member.shape}\")\n",
    "print(f\"Transformed dataframe shape: {df_transformed.shape}\")\n",
    "\n"
   ]
  },
  {
   "cell_type": "code",
   "execution_count": 2,
   "id": "74895456",
   "metadata": {},
   "outputs": [
    {
     "name": "stdout",
     "output_type": "stream",
     "text": [
      "Collecting geopy\n",
      "  Downloading geopy-2.4.0-py3-none-any.whl (125 kB)\n",
      "\u001b[2K     \u001b[90m━━━━━━━━━━━━━━━━━━━━━━━━━━━━━━━━━━━━━━━\u001b[0m \u001b[32m125.4/125.4 kB\u001b[0m \u001b[31m1.8 MB/s\u001b[0m eta \u001b[36m0:00:00\u001b[0ma \u001b[36m0:00:01\u001b[0m\n",
      "\u001b[?25hCollecting geographiclib<3,>=1.52\n",
      "  Downloading geographiclib-2.0-py3-none-any.whl (40 kB)\n",
      "\u001b[2K     \u001b[90m━━━━━━━━━━━━━━━━━━━━━━━━━━━━━━━━━━━━━━━━\u001b[0m \u001b[32m40.3/40.3 kB\u001b[0m \u001b[31m3.3 MB/s\u001b[0m eta \u001b[36m0:00:00\u001b[0m\n",
      "\u001b[?25hInstalling collected packages: geographiclib, geopy\n",
      "Successfully installed geographiclib-2.0 geopy-2.4.0\n",
      "\n",
      "\u001b[1m[\u001b[0m\u001b[34;49mnotice\u001b[0m\u001b[1;39;49m]\u001b[0m\u001b[39;49m A new release of pip is available: \u001b[0m\u001b[31;49m23.0\u001b[0m\u001b[39;49m -> \u001b[0m\u001b[32;49m23.2.1\u001b[0m\n",
      "\u001b[1m[\u001b[0m\u001b[34;49mnotice\u001b[0m\u001b[1;39;49m]\u001b[0m\u001b[39;49m To update, run: \u001b[0m\u001b[32;49m/Users/ishangohil/opt/anaconda3/bin/python -m pip install --upgrade pip\u001b[0m\n",
      "Note: you may need to restart the kernel to use updated packages.\n"
     ]
    }
   ],
   "source": [
    "pip install geopy\n"
   ]
  },
  {
   "cell_type": "markdown",
   "id": "0d12cd32",
   "metadata": {},
   "source": [
    "# Location Conversion"
   ]
  },
  {
   "cell_type": "code",
   "execution_count": 2,
   "id": "a72ecbc2",
   "metadata": {},
   "outputs": [
    {
     "name": "stdout",
     "output_type": "stream",
     "text": [
      "El Paso County\n"
     ]
    }
   ],
   "source": [
    "from geopy.geocoders import Nominatim\n",
    "import time\n",
    "\n",
    "geolocator = Nominatim(user_agent=\"BEV-359\")\n",
    "\n",
    "def get_county_from_address(address):\n",
    "    try:\n",
    "        location = geolocator.geocode(address)\n",
    "        if location:\n",
    "            address_parts = location.address.split(',')\n",
    "            for part in address_parts:\n",
    "                if \"County\" in part:\n",
    "                    return part.strip()\n",
    "        return None\n",
    "    except Exception as e:\n",
    "        print(f\"Error occurred: {e}. Retrying after 5 seconds.\")\n",
    "        time.sleep(5)\n",
    "        return get_county_from_address(address)\n",
    "\n",
    "address = \"Goat Patch Brewing\"\n",
    "county = get_county_from_address(address)\n",
    "print(county)\n"
   ]
  },
  {
   "cell_type": "markdown",
   "id": "e209a618",
   "metadata": {},
   "source": [
    "# URL Decoding"
   ]
  },
  {
   "cell_type": "code",
   "execution_count": 1,
   "id": "907597fe",
   "metadata": {},
   "outputs": [
    {
     "name": "stdout",
     "output_type": "stream",
     "text": [
      "Expanded URL: https://www.google.com/maps/dir//39.7487835,-105.2448438/@39.7452006,-105.2467767,972m/data=!3m1!1e3!4m2!4m1!3e0?shorturl=1\n"
     ]
    }
   ],
   "source": [
    "import requests\n",
    "from urllib.parse import unquote\n",
    "\n",
    "def expand_google_maps_url(short_url):\n",
    "    # Get the redirect URL without actually downloading or processing it\n",
    "    response = requests.get(short_url, allow_redirects=False)\n",
    "    \n",
    "    if response.status_code == 302 and 'Location' in response.headers:\n",
    "        # URL decode (e.g., convert \"%20\" to space)\n",
    "        return unquote(response.headers['Location'])\n",
    "    return None\n",
    "\n",
    "short_url = 'https://goo.gl/maps/iBjPqWTocXrisHER7'\n",
    "expanded_url = expand_google_maps_url(short_url)\n",
    "\n",
    "if expanded_url:\n",
    "    print(\"Expanded URL:\", expanded_url)\n",
    "else:\n",
    "    print(\"Couldn't expand the URL.\")\n"
   ]
  },
  {
   "cell_type": "markdown",
   "id": "0e947618",
   "metadata": {},
   "source": [
    "# Events Migration"
   ]
  },
  {
   "cell_type": "code",
   "execution_count": 8,
   "id": "809f9487",
   "metadata": {},
   "outputs": [
    {
     "name": "stdout",
     "output_type": "stream",
     "text": [
      "Complete\n"
     ]
    }
   ],
   "source": [
    "import pandas as pd\n",
    "import pymysql\n",
    "import json\n",
    "import csv\n",
    "import logging\n",
    "import re\n",
    "from geopy.geocoders import Nominatim\n",
    "from urllib.parse import urlparse, parse_qs\n",
    "import requests\n",
    "\n",
    "# --- Setup ---\n",
    "\n",
    "# Logging setup\n",
    "logging.basicConfig(filename=\"migration_log.log\", level=logging.INFO, format='%(asctime)s - %(levelname)s - %(message)s')\n",
    "\n",
    "# Connect to the database\n",
    "try:\n",
    "    connection = pymysql.connect(host='',\n",
    "                                 user='',\n",
    "                                 password='',\n",
    "                                 db='',\n",
    "                                 charset='utf8mb4',\n",
    "                                 cursorclass=pymysql.cursors.DictCursor)\n",
    "    logging.info(\"Successfully connected to the database.\")\n",
    "except Exception as e:\n",
    "    logging.error(f\"Failed to connect to the database. Error: {str(e)}\")\n",
    "    exit()\n",
    "\n",
    "# Load the CSV into DataFrame\n",
    "try:\n",
    "    with open('county_region_map_calculated.csv', 'r') as f:\n",
    "        reader = csv.reader(f)\n",
    "        mapping = [(row[0].strip(\"' \"), int(row[1].strip())) for row in reader]\n",
    "    \n",
    "    county_region_df = pd.DataFrame(mapping, columns=['county', 'region_id'])\n",
    "    logging.info(\"Successfully loaded CSV into DataFrame.\")\n",
    "except Exception as e:\n",
    "    logging.error(f\"Failed to load CSV. Error: {str(e)}\")\n",
    "    exit()\n",
    "\n",
    "# Initialize geolocator\n",
    "geolocator = Nominatim(user_agent=\"geoapiExercises\")\n",
    "\n",
    "# --- Functions ---\n",
    "\n",
    "def extract_coordinates_from_url(url):\n",
    "    pattern = r'\\/(\\-?\\d+\\.\\d+),(\\-?\\d+\\.\\d+)\\/'\n",
    "    match = re.search(pattern, url)\n",
    "    if match:\n",
    "        lat, lon = match.groups()\n",
    "        return float(lat), float(lon)\n",
    "    return None\n",
    "\n",
    "def get_county_from_coordinates(lat, lon):\n",
    "    location = geolocator.reverse((lat, lon), exactly_one=True)\n",
    "    if location and location.raw.get('address'):\n",
    "        return location.raw['address'].get('county')\n",
    "    return None\n",
    "\n",
    "def get_county_from_address(address):\n",
    "    location = geolocator.geocode(address)\n",
    "    if location:\n",
    "        address_parts = location.address.split(',')\n",
    "        for part in address_parts:\n",
    "            if \"County\" in part:\n",
    "                return part.strip()\n",
    "    return None\n",
    "\n",
    "def get_region_from_county(county):\n",
    "    region = county_region_df[county_region_df['county'] == county]['region_id'].values\n",
    "    return region[0] if len(region) else None\n",
    "\n",
    "# --- Main Logic for event_location ---\n",
    "\n",
    "with connection.cursor() as cursor:\n",
    "    try:\n",
    "        cursor.execute(\"SELECT id, event_location FROM event\")\n",
    "        event_data = cursor.fetchall()\n",
    "\n",
    "        for event_id, location in event_data:\n",
    "            county = None\n",
    "            if \"goo.gl/maps/\" in location:\n",
    "                expanded_url = expand_google_maps_url(location)\n",
    "                if expanded_url:\n",
    "                    coords = extract_coordinates_from_url(expanded_url)\n",
    "                    if coords:\n",
    "                        county = get_county_from_coordinates(*coords)\n",
    "            elif not any(protocol in location for protocol in [\"http://\", \"https://\"]):\n",
    "                county = get_county_from_address(location)\n",
    "\n",
    "            if county:\n",
    "                region = get_region_from_county(county)\n",
    "                if region:\n",
    "                    cursor.execute(\"UPDATE event SET region_id = %s WHERE id = %s\", (region, event_id))\n",
    "            else:\n",
    "                logging.warning(f\"Event with ID {event_id} and location {location} could not be mapped to a region.\")\n",
    "\n",
    "        logging.info(\"Successfully updated event table with regions.\")\n",
    "    except Exception as e:\n",
    "        logging.error(f\"Error while updating event table with regions. Error: {str(e)}\")\n",
    "\n",
    "# Commit changes and close the connection\n",
    "try:\n",
    "    connection.commit()\n",
    "    connection.close()\n",
    "    logging.info(\"Successfully committed changes and closed the connection.\")\n",
    "except Exception as e:\n",
    "    logging.error(f\"Failed to commit changes or close the connection. Error: {str(e)}\")\n",
    "print(\"Complete\")"
   ]
  },
  {
   "cell_type": "code",
   "execution_count": null,
   "id": "04ffcc8a",
   "metadata": {},
   "outputs": [],
   "source": []
  }
 ],
 "metadata": {
  "kernelspec": {
   "display_name": "Python 3 (ipykernel)",
   "language": "python",
   "name": "python3"
  },
  "language_info": {
   "codemirror_mode": {
    "name": "ipython",
    "version": 3
   },
   "file_extension": ".py",
   "mimetype": "text/x-python",
   "name": "python",
   "nbconvert_exporter": "python",
   "pygments_lexer": "ipython3",
   "version": "3.9.13"
  }
 },
 "nbformat": 4,
 "nbformat_minor": 5
}
